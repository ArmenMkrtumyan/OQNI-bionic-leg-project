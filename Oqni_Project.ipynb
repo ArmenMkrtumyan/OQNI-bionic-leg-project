{
 "cells": [
  {
   "cell_type": "markdown",
   "id": "a34c7a1e",
   "metadata": {},
   "source": [
    "# Imports"
   ]
  },
  {
   "cell_type": "code",
   "execution_count": 1,
   "id": "2f3e5cfe",
   "metadata": {},
   "outputs": [],
   "source": [
    "%matplotlib tk\n",
    "\n",
    "from tkinter import *\n",
    "from PIL import ImageTk, Image\n",
    "import itertools\n",
    "import serial\n",
    "import time\n",
    "import pandas as pd\n",
    "import numpy as np\n",
    "import sys\n",
    "import glob\n",
    "import serial\n",
    "import matplotlib.pyplot as plt\n",
    "from matplotlib.backends.backend_tkagg import FigureCanvasTkAgg\n",
    "import matplotlib.animation as animation"
   ]
  },
  {
   "cell_type": "markdown",
   "id": "a0508adf",
   "metadata": {},
   "source": [
    "# Creating a CSV file from sensor inputs"
   ]
  },
  {
   "cell_type": "code",
   "execution_count": 2,
   "id": "e6672d02",
   "metadata": {},
   "outputs": [],
   "source": [
    "def create_CSV():\n",
    "    PORTS = serial_ports()\n",
    "    for port_name in PORTS:\n",
    "        OUTPUTS =[]\n",
    "        if(port_name[9] == 'u'):\n",
    "            ser = serial.Serial(port = port_name, baudrate = 9600, timeout = 0)\n",
    "            with serial.Serial(port_name, baudrate=9600) as ser:\n",
    "                for i in range(100):\n",
    "                    s = ser.read(4)        # read up to ten bytes (timeout)\n",
    "                    OUTPUTS.append(int.from_bytes(s[:-1], \"little\"))\n",
    "        df = pd.DataFrame(OUTPUTS, columns=[port_name])\n",
    "    df.to_csv('~/Desktop/oqni/PORTS.csv', index=False)\n",
    "    info_clicked(\"Succesfully Created the CSV file\", info_frame)"
   ]
  },
  {
   "cell_type": "markdown",
   "id": "80b94043",
   "metadata": {},
   "source": [
    "# Displaying output in information frame"
   ]
  },
  {
   "cell_type": "code",
   "execution_count": 3,
   "id": "58eb439f",
   "metadata": {},
   "outputs": [],
   "source": [
    "def info_clicked(value, info_frame):\n",
    "    for widget in info_frame.winfo_children():\n",
    "        widget.destroy()\n",
    "    myLabel = Label(info_frame, text = value)\n",
    "    myLabel.config(font=('Helvetica bold', 26))\n",
    "    myLabel.place(in_ = info_frame, x = 0, y= -20)"
   ]
  },
  {
   "cell_type": "code",
   "execution_count": 4,
   "id": "2f87850c",
   "metadata": {},
   "outputs": [],
   "source": [
    "def serial_ports():\n",
    "    \"\"\" Lists serial port names\n",
    "\n",
    "        :raises EnvironmentError:\n",
    "            On unsupported or unknown platforms\n",
    "        :returns:\n",
    "            A list of the serial ports available on the system\n",
    "    \"\"\"\n",
    "    if sys.platform.startswith('win'):\n",
    "        ports = ['COM%s' % (i + 1) for i in range(256)]\n",
    "    elif sys.platform.startswith('linux') or sys.platform.startswith('cygwin'):\n",
    "        # this excludes your current terminal \"/dev/tty\"\n",
    "        ports = glob.glob('/dev/tty[A-Za-z]*')\n",
    "    elif sys.platform.startswith('darwin'):\n",
    "        ports = glob.glob('/dev/tty.*')\n",
    "    else:\n",
    "        raise EnvironmentError('Unsupported platform')\n",
    "\n",
    "    result = []\n",
    "    for port in ports:\n",
    "        try:\n",
    "            s = serial.Serial(port)\n",
    "            s.close()\n",
    "            result.append(port)\n",
    "        except (OSError, serial.SerialException):\n",
    "            pass\n",
    "    return result"
   ]
  },
  {
   "cell_type": "code",
   "execution_count": 5,
   "id": "d28ef02f",
   "metadata": {},
   "outputs": [],
   "source": [
    "def serial_port_processing(port_list):\n",
    "    new_list = []\n",
    "    for i in range(1, len(port_list)+1):\n",
    "        new_list.append((\"Port N\" + str(i), port_list[i-1]))\n",
    "    return (new_list)"
   ]
  },
  {
   "cell_type": "code",
   "execution_count": 6,
   "id": "1f0d319a",
   "metadata": {},
   "outputs": [],
   "source": [
    "def test_run():\n",
    "    data = pd.read_csv('/Users/armenmkrtumyan/Desktop/oqni/Exp#1.csv')\n",
    "    data_top = Toplevel()\n",
    "    data_top.geometry('800x1000+700+0')\n",
    "    data_top.title(\"Test Run\")\n",
    "    \n",
    "    for i in range(len(data)):\n",
    "        frame = Frame(data_top, width=600, height=400)\n",
    "        frame.pack()\n",
    "        frame.place(anchor='center', relx=0.5, rely=0.5)\n",
    "        leg_image = PhotoImage(file='/Users/armenmkrtumyan/Desktop/oqni/' \\\n",
    "                               + str(data['label_index'][i]) +'.png')\n",
    "        my_label = Label(frame, image=leg_image)\n",
    "        my_label['image'] = leg_image\n",
    "        my_label.pack()\n",
    "        k = data['time_interval'][i]\n",
    "        while(k > 0):\n",
    "            info_clicked(str(k) + \" \" + str(data['labels'][i]), info_frame)\n",
    "            data_top.update()\n",
    "            time.sleep(1)\n",
    "            k-=1\n",
    "\n",
    "        data_top.update()\n",
    "        for widget in frame.winfo_children():\n",
    "            widget.destroy()\n",
    "    info_clicked('', info_frame)\n",
    "    data_top.destroy()"
   ]
  },
  {
   "cell_type": "markdown",
   "id": "494b815b",
   "metadata": {},
   "source": [
    "## Checks for 100 samples"
   ]
  },
  {
   "cell_type": "code",
   "execution_count": 7,
   "id": "a03f1dbe",
   "metadata": {},
   "outputs": [],
   "source": [
    "# def open_graph(port_name):\n",
    "#     plt.xlim(-5, 5)\n",
    "#     plt.ylim([0, 400])\n",
    "#     top = Toplevel()\n",
    "#     top.title(\"Graph\")\n",
    "#     top.geometry('+%d+%d'%(0,490))  \n",
    "    \n",
    "#     figure = plt.Figure(figsize=(9.3,6.6), dpi=100)    \n",
    "    \n",
    "#     x = pd.read_csv('PORTS.csv')[port_name]\n",
    "#     y = np.arange(1,len(x)+1)\n",
    "\n",
    "#     df = pd.DataFrame(list(zip(x, y)))\n",
    "#     ax = figure.add_subplot(111)\n",
    "#     ax.set_ymargin(2)\n",
    "#     ax.set_xmargin(0)\n",
    "#     ax.set_title('Graph of the port ' + port_name)\n",
    "    \n",
    "    \n",
    "#     chart_type = FigureCanvasTkAgg(figure, top)\n",
    "#     chart_type.get_tk_widget().pack()\n",
    "#     df = df.groupby(1).sum()\n",
    "\n",
    "#     df.plot(kind='line', legend=True, ax=ax)\n"
   ]
  },
  {
   "cell_type": "markdown",
   "id": "0465df8b",
   "metadata": {},
   "source": [
    "### Live plotting"
   ]
  },
  {
   "cell_type": "code",
   "execution_count": 8,
   "id": "8acbd4fe",
   "metadata": {},
   "outputs": [],
   "source": [
    "def open_graph(port_name):\n",
    "    global ani\n",
    "\n",
    "    # Parameters\n",
    "    x_len = 200         # Number of points to display\n",
    "    y_range = [70, 80]  # Range of possible Y values to display\n",
    "\n",
    "    # Create figure for plotting\n",
    "    fig = plt.figure(figsize=(9.3,6.6), dpi=150)\n",
    "    fig.canvas.manager.set_window_title('Sesnor inputs')\n",
    "\n",
    "    ax = fig.add_subplot(1, 1, 1)\n",
    "    xs = list(range(0, 200))\n",
    "    ys = [0] * x_len\n",
    "    ax.set_ylim(y_range)\n",
    "\n",
    "    # Create a blank line. We will update the line in animate\n",
    "    line, = ax.plot(xs, ys)\n",
    "\n",
    "    # Add labels\n",
    "    plt.title('Sensor Inputs over time')\n",
    "    plt.xlabel('Time')\n",
    "    plt.ylabel('Input')\n",
    "\n",
    "    # This function is called periodically from FuncAnimation\n",
    "    def animate(i, ys):\n",
    "        temp_c = np.random.randint(70,80)\n",
    "        # Add y to list\n",
    "        ys.append(temp_c)\n",
    "        # Limit y list to set number of items\n",
    "        ys = ys[-x_len:]\n",
    "        # Update line with new Y values\n",
    "        line.set_ydata(ys)\n",
    "        return line,\n",
    "\n",
    "    # Set up plot to call animate() function periodically\n",
    "    ani = animation.FuncAnimation(fig,\n",
    "        animate,\n",
    "        fargs=(ys,),\n",
    "        interval=50,\n",
    "        blit=True)\n",
    "    plt.show()\n"
   ]
  },
  {
   "cell_type": "code",
   "execution_count": null,
   "id": "e0db39c1",
   "metadata": {},
   "outputs": [],
   "source": [
    "root = Tk()\n",
    "root.title(\"Port Reader\")\n",
    "root.geometry('700x400+0+0')\n",
    "root.minsize(700, 400)\n",
    "root.maxsize(700, 400)\n",
    "\n",
    "bg = PhotoImage(file='/Users/armenmkrtumyan/Downloads/abstract-science-background-molecule-abstract-science-background-molecule-cells-beautiful-glow-10081.png')\n",
    "my_label = Label(root, image=bg)\n",
    "my_label.place(x=0,y=0, relwidth=1, relheight=1)\n",
    "\n",
    "port_frame = LabelFrame(root, text=\"PORTS\", padx = 0, pady = 0)\n",
    "port_frame.place(x=10,y=10,height=380,width=100)\n",
    "actions_frame = LabelFrame(root, text=\"ACTIONS\", padx = 50, pady = 50)\n",
    "actions_frame.place(x=120, y = 10, height = 160, width = 200)\n",
    "info_frame = LabelFrame(root, text=\"Information\", padx = 50, pady = 50)\n",
    "info_frame.place(x = 330, y = 10, height = 100, width = 300)\n",
    "\n",
    "PORTS = (serial_port_processing(serial_ports()))\n",
    "\n",
    "port_variable = StringVar()\n",
    "\n",
    "\n",
    "for text, mode in PORTS:\n",
    "    Radiobutton(port_frame, text = text, variable=port_variable, value=mode).pack()\n",
    "\n",
    "graph_button = Button(actions_frame, text = \"Open graph\", command = lambda: open_graph(port_variable.get()))\n",
    "graph_button.place(in_ = actions_frame, x = -40, y= -40)\n",
    "info_button = Button(actions_frame, text=\"Info about port\", command= lambda: info_clicked(port_variable.get(), info_frame))\n",
    "info_button.place(in_ = actions_frame, x = -40, y= -10)\n",
    "CSV_button = Button(actions_frame, text = \"Create CSV\", command = create_CSV)\n",
    "CSV_button.place(in_ = actions_frame, x = -40, y= 20)\n",
    "pre_made_data_button = Button(actions_frame, text = \"Run the test\", command = lambda: test_run())\n",
    "pre_made_data_button.place(in_ = actions_frame, x = -40, y= 50)\n",
    "\n",
    "myLabel = Label(info_frame, text = \"Select a label to see the output\")\n",
    "myLabel.place(in_ = info_frame, x = 0, y= -20)\n",
    "\n",
    "mainloop()"
   ]
  },
  {
   "cell_type": "code",
   "execution_count": null,
   "id": "2f5f43fb",
   "metadata": {},
   "outputs": [],
   "source": []
  }
 ],
 "metadata": {
  "kernelspec": {
   "display_name": "Python 3 (ipykernel)",
   "language": "python",
   "name": "python3"
  },
  "language_info": {
   "codemirror_mode": {
    "name": "ipython",
    "version": 3
   },
   "file_extension": ".py",
   "mimetype": "text/x-python",
   "name": "python",
   "nbconvert_exporter": "python",
   "pygments_lexer": "ipython3",
   "version": "3.9.12"
  }
 },
 "nbformat": 4,
 "nbformat_minor": 5
}
