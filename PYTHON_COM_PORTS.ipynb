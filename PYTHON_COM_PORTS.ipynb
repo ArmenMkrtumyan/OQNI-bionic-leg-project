{
 "cells": [
  {
   "cell_type": "code",
   "execution_count": 29,
   "id": "b72c576d",
   "metadata": {},
   "outputs": [
    {
     "name": "stdout",
     "output_type": "stream",
     "text": [
      "The iterable conversion results in : b'v\\x00\\x00a'\n",
      "118\n"
     ]
    }
   ],
   "source": [
    "lis1 = b'v\\x00\\x00a'\n",
    "print (\"The iterable conversion results in : \"  + str(bytes(lis1)))\n",
    "print(int.from_bytes(lis1[:-1], \"little\", signed = True))\n"
   ]
  },
  {
   "cell_type": "code",
   "execution_count": 30,
   "id": "a316ac8e",
   "metadata": {},
   "outputs": [
    {
     "name": "stdout",
     "output_type": "stream",
     "text": [
      "14\n",
      "14\n",
      "14\n",
      "14\n",
      "14\n",
      "15\n",
      "15\n",
      "14\n",
      "14\n",
      "14\n",
      "14\n",
      "14\n",
      "14\n",
      "14\n",
      "14\n",
      "14\n",
      "14\n",
      "15\n",
      "14\n",
      "15\n"
     ]
    }
   ],
   "source": [
    "import serial\n",
    "\n",
    "with serial.Serial('/dev/tty.usbmodem2101', baudrate=9600) as ser:\n",
    "    for i in range(20):\n",
    "        s = ser.read(4)        # read up to ten bytes (timeout)\n",
    "        print(int.from_bytes(s[:-1], \"little\"))"
   ]
  },
  {
   "cell_type": "code",
   "execution_count": 21,
   "id": "7623a864",
   "metadata": {},
   "outputs": [
    {
     "name": "stdout",
     "output_type": "stream",
     "text": [
      "['/dev/tty.Bluetooth-Incoming-Port', '/dev/tty.usbmodem2101']\n"
     ]
    }
   ],
   "source": [
    "import sys\n",
    "import glob\n",
    "import serial\n",
    "\n",
    "def serial_ports():\n",
    "    \"\"\" Lists serial port names\n",
    "\n",
    "        :raises EnvironmentError:\n",
    "            On unsupported or unknown platforms\n",
    "        :returns:\n",
    "            A list of the serial ports available on the system\n",
    "    \"\"\"\n",
    "    if sys.platform.startswith('win'):\n",
    "        ports = ['COM%s' % (i + 1) for i in range(256)]\n",
    "    elif sys.platform.startswith('linux') or sys.platform.startswith('cygwin'):\n",
    "        # this excludes your current terminal \"/dev/tty\"\n",
    "        ports = glob.glob('/dev/tty[A-Za-z]*')\n",
    "    elif sys.platform.startswith('darwin'):\n",
    "        ports = glob.glob('/dev/tty.*')\n",
    "    else:\n",
    "        raise EnvironmentError('Unsupported platform')\n",
    "\n",
    "    result = []\n",
    "    for port in ports:\n",
    "        try:\n",
    "            s = serial.Serial(port)\n",
    "            s.close()\n",
    "            result.append(port)\n",
    "        except (OSError, serial.SerialException):\n",
    "            pass\n",
    "    return result\n",
    "\n",
    "if __name__ == '__main__':\n",
    "    print(serial_ports())\n"
   ]
  },
  {
   "cell_type": "code",
   "execution_count": 13,
   "id": "239b4bb0",
   "metadata": {},
   "outputs": [],
   "source": [
    "import serial\n",
    "import time\n",
    "ser = serial.Serial(port = '/dev/tty.usbmodem2101', \n",
    "                           baudrate = 115200, \n",
    "                           timeout = 0)\n",
    "i = 0\n",
    "while(True):\n",
    "    line = ser.readline()   # read a byte\n",
    "    if line:\n",
    "        string = line.decode()  # convert the byte string to a unicode string\n",
    "        num = int(string) # convert the unicode string to an int\n",
    "        print(num)\n",
    "    if(i > 100):\n",
    "        break\n",
    "    i+=1;\n"
   ]
  },
  {
   "cell_type": "code",
   "execution_count": null,
   "id": "891d2724",
   "metadata": {},
   "outputs": [],
   "source": []
  },
  {
   "cell_type": "code",
   "execution_count": 31,
   "id": "c7f4be28",
   "metadata": {},
   "outputs": [],
   "source": [
    "# import serial\n",
    "# import time\n",
    "# serialPort = serial.Serial(port = '/dev/tty.usbmodem2101', \n",
    "#                            baudrate = 115200, \n",
    "#                            timeout = 0)\n",
    "# while True:\n",
    "#     input_word = input(\"input on/off : \").strip()\n",
    "#     if (input_word == 'done'):\n",
    "#         print(\"\\nFINISHED\\n\")\n",
    "#         break\n",
    "#     serialPort.write(input_word.encode())   #We have to encode the word into bytes\n",
    "#     time.sleep(0.5)\n",
    "#     print(serialPort.readline().decode('ascii')) #Arduino sends bytes back so we have to encode it again\n",
    "# serialPort.close()"
   ]
  },
  {
   "cell_type": "code",
   "execution_count": null,
   "id": "cad023da",
   "metadata": {},
   "outputs": [],
   "source": []
  }
 ],
 "metadata": {
  "kernelspec": {
   "display_name": "Python 3 (ipykernel)",
   "language": "python",
   "name": "python3"
  },
  "language_info": {
   "codemirror_mode": {
    "name": "ipython",
    "version": 3
   },
   "file_extension": ".py",
   "mimetype": "text/x-python",
   "name": "python",
   "nbconvert_exporter": "python",
   "pygments_lexer": "ipython3",
   "version": "3.9.12"
  }
 },
 "nbformat": 4,
 "nbformat_minor": 5
}
